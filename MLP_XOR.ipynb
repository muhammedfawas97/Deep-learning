{
 "cells": [
  {
   "cell_type": "code",
   "execution_count": 4,
   "metadata": {},
   "outputs": [
    {
     "name": "stdout",
     "output_type": "stream",
     "text": [
      "3000\n"
     ]
    },
    {
     "data": {
      "text/plain": [
       "MLPClassifier(activation='logistic', hidden_layer_sizes=[2], random_state=3,\n",
       "              solver='sgd')"
      ]
     },
     "execution_count": 4,
     "metadata": {},
     "output_type": "execute_result"
    }
   ],
   "source": [
    "from sklearn.model_selection import  train_test_split\n",
    "from sklearn.neural_network.multilayer_perceptron import MLPClassifier\n",
    "\n",
    "x=[[0,0],[0,1],[1,0],[1,1]]*1000\n",
    "y=[0,1,1,0]*1000\n",
    "x_train,x_test,y_train,y_test=train_test_split(x,y,random_state=3)\n",
    "print(len(x_train))\n",
    "\n",
    "clf=MLPClassifier(hidden_layer_sizes=[2],activation='logistic',random_state=3,\n",
    "                 solver='sgd')\n",
    "clf.fit(x_train,y_train)\n"
   ]
  },
  {
   "cell_type": "code",
   "execution_count": 5,
   "metadata": {},
   "outputs": [
    {
     "name": "stdout",
     "output_type": "stream",
     "text": [
      "Number of layers: [2], Number of Outputs : 1\n"
     ]
    }
   ],
   "source": [
    "print('Number of layers: %s, Number of Outputs : %s' %(clf.hidden_layer_sizes,clf.n_outputs_))"
   ]
  },
  {
   "cell_type": "code",
   "execution_count": 6,
   "metadata": {},
   "outputs": [
    {
     "name": "stdout",
     "output_type": "stream",
     "text": [
      "3\n"
     ]
    }
   ],
   "source": [
    "print(clf.n_layers_)"
   ]
  },
  {
   "cell_type": "code",
   "execution_count": 13,
   "metadata": {},
   "outputs": [
    {
     "name": "stdout",
     "output_type": "stream",
     "text": [
      "Accuracy :  0.49\n",
      "True : 1 , Predicted : 0\n",
      "True : 1 , Predicted : 0\n",
      "True : 1 , Predicted : 0\n",
      "True : 0 , Predicted : 0\n",
      "True : 1 , Predicted : 0\n",
      "True : 0 , Predicted : 0\n",
      "True : 0 , Predicted : 0\n",
      "True : 1 , Predicted : 0\n",
      "True : 0 , Predicted : 0\n",
      "True : 1 , Predicted : 0\n"
     ]
    }
   ],
   "source": [
    "pred=clf.predict(x_test)\n",
    "print('Accuracy : ',clf.score(x_test,y_test))\n",
    "\n",
    "for i ,p in enumerate(pred[:10]):\n",
    "    print(\"True : %s , Predicted : %s\"%(y_test[i],p))"
   ]
  },
  {
   "cell_type": "code",
   "execution_count": null,
   "metadata": {},
   "outputs": [],
   "source": [
    "\n"
   ]
  }
 ],
 "metadata": {
  "kernelspec": {
   "display_name": "Python 3",
   "language": "python",
   "name": "python3"
  },
  "language_info": {
   "codemirror_mode": {
    "name": "ipython",
    "version": 3
   },
   "file_extension": ".py",
   "mimetype": "text/x-python",
   "name": "python",
   "nbconvert_exporter": "python",
   "pygments_lexer": "ipython3",
   "version": "3.8.3"
  }
 },
 "nbformat": 4,
 "nbformat_minor": 4
}
